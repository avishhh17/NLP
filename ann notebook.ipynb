{
 "cells": [
  {
   "cell_type": "code",
   "execution_count": null,
   "id": "d3ae4246",
   "metadata": {},
   "outputs": [],
   "source": []
  },
  {
   "cell_type": "code",
   "execution_count": null,
   "id": "538d4960",
   "metadata": {},
   "outputs": [],
   "source": []
  },
  {
   "cell_type": "code",
   "execution_count": 1,
   "id": "ce567c6e",
   "metadata": {},
   "outputs": [],
   "source": [
    "# import libraries\n",
    "import numpy as np\n",
    "import pandas as pd\n",
    "import matplotlib.pyplot as plt\n",
    "import seaborn as sns\n",
    "from matplotlib.pyplot import xticks\n",
    "from nltk.corpus import stopwords\n",
    "import nltk\n",
    "import re\n",
    "from nltk.stem import WordNetLemmatizer\n",
    "import string\n",
    "from nltk.tokenize import word_tokenize\n",
    "from nltk.util import ngrams\n",
    "from collections import defaultdict\n",
    "from tqdm import tqdm\n",
    "from sklearn.model_selection import train_test_split\n",
    "from keras.utils.vis_utils import plot_model\n",
    "from keras.models import Sequential\n",
    "from keras.layers import Dense\n",
    "from tensorflow.keras.callbacks import ModelCheckpoint, EarlyStopping, Callback\n",
    "import tensorflow as tf\n",
    "from sklearn.metrics import f1_score\n",
    "from wordcloud import WordCloud,STOPWORDS\n",
    "from sklearn.metrics import accuracy_score, classification_report, confusion_matrix\n",
    "from sklearn.feature_extraction.text import TfidfVectorizer\n",
    "from sklearn.pipeline import Pipeline\n",
    "from numpy import array\n",
    "from numpy import asarray\n",
    "from numpy import zeros\n",
    "from tensorflow.keras.preprocessing.text import Tokenizer\n",
    "from tensorflow.keras.preprocessing.sequence import pad_sequences\n",
    "from keras.models import Sequential\n",
    "from keras.layers import Dense,Flatten,Embedding,Activation,Dropout\n",
    "from keras.layers import Conv1D,MaxPooling1D,GlobalMaxPooling1D,LSTM"
   ]
  },
  {
   "cell_type": "code",
   "execution_count": 2,
   "id": "49c2a7aa",
   "metadata": {},
   "outputs": [],
   "source": [
    "# load train and test datasets\n",
    "columns = [\"Id\",\"Entity\",\"Target\",\"Text\"]\n",
    "train= pd.read_csv('twitter_training.csv',names=columns,header=None)\n",
    "test=pd.read_csv('twitter_validation.csv',names=columns,header=None)\n"
   ]
  },
  {
   "cell_type": "code",
   "execution_count": 3,
   "id": "1291d631",
   "metadata": {},
   "outputs": [
    {
     "data": {
      "text/plain": [
       "((74682, 4), (1000, 4))"
      ]
     },
     "execution_count": 3,
     "metadata": {},
     "output_type": "execute_result"
    }
   ],
   "source": [
    "# check the no. of rows and columns in the dataset\n",
    "train.shape, test.shape"
   ]
  },
  {
   "cell_type": "code",
   "execution_count": 4,
   "id": "af91d480",
   "metadata": {},
   "outputs": [
    {
     "data": {
      "text/html": [
       "<div>\n",
       "<style scoped>\n",
       "    .dataframe tbody tr th:only-of-type {\n",
       "        vertical-align: middle;\n",
       "    }\n",
       "\n",
       "    .dataframe tbody tr th {\n",
       "        vertical-align: top;\n",
       "    }\n",
       "\n",
       "    .dataframe thead th {\n",
       "        text-align: right;\n",
       "    }\n",
       "</style>\n",
       "<table border=\"1\" class=\"dataframe\">\n",
       "  <thead>\n",
       "    <tr style=\"text-align: right;\">\n",
       "      <th></th>\n",
       "      <th>Id</th>\n",
       "      <th>Entity</th>\n",
       "      <th>Target</th>\n",
       "      <th>Text</th>\n",
       "    </tr>\n",
       "  </thead>\n",
       "  <tbody>\n",
       "    <tr>\n",
       "      <th>0</th>\n",
       "      <td>2401</td>\n",
       "      <td>Borderlands</td>\n",
       "      <td>Positive</td>\n",
       "      <td>im getting on borderlands and i will murder yo...</td>\n",
       "    </tr>\n",
       "    <tr>\n",
       "      <th>1</th>\n",
       "      <td>2401</td>\n",
       "      <td>Borderlands</td>\n",
       "      <td>Positive</td>\n",
       "      <td>I am coming to the borders and I will kill you...</td>\n",
       "    </tr>\n",
       "    <tr>\n",
       "      <th>2</th>\n",
       "      <td>2401</td>\n",
       "      <td>Borderlands</td>\n",
       "      <td>Positive</td>\n",
       "      <td>im getting on borderlands and i will kill you ...</td>\n",
       "    </tr>\n",
       "    <tr>\n",
       "      <th>3</th>\n",
       "      <td>2401</td>\n",
       "      <td>Borderlands</td>\n",
       "      <td>Positive</td>\n",
       "      <td>im coming on borderlands and i will murder you...</td>\n",
       "    </tr>\n",
       "    <tr>\n",
       "      <th>4</th>\n",
       "      <td>2401</td>\n",
       "      <td>Borderlands</td>\n",
       "      <td>Positive</td>\n",
       "      <td>im getting on borderlands 2 and i will murder ...</td>\n",
       "    </tr>\n",
       "  </tbody>\n",
       "</table>\n",
       "</div>"
      ],
      "text/plain": [
       "     Id       Entity    Target  \\\n",
       "0  2401  Borderlands  Positive   \n",
       "1  2401  Borderlands  Positive   \n",
       "2  2401  Borderlands  Positive   \n",
       "3  2401  Borderlands  Positive   \n",
       "4  2401  Borderlands  Positive   \n",
       "\n",
       "                                                Text  \n",
       "0  im getting on borderlands and i will murder yo...  \n",
       "1  I am coming to the borders and I will kill you...  \n",
       "2  im getting on borderlands and i will kill you ...  \n",
       "3  im coming on borderlands and i will murder you...  \n",
       "4  im getting on borderlands 2 and i will murder ...  "
      ]
     },
     "execution_count": 4,
     "metadata": {},
     "output_type": "execute_result"
    }
   ],
   "source": [
    "train.head()"
   ]
  },
  {
   "cell_type": "code",
   "execution_count": 5,
   "id": "1eb82fca",
   "metadata": {},
   "outputs": [
    {
     "data": {
      "text/plain": [
       "Text      686\n",
       "Id          0\n",
       "Entity      0\n",
       "Target      0\n",
       "dtype: int64"
      ]
     },
     "execution_count": 5,
     "metadata": {},
     "output_type": "execute_result"
    }
   ],
   "source": [
    "train.isnull().sum().sort_values(ascending = False)"
   ]
  },
  {
   "cell_type": "code",
   "execution_count": 6,
   "id": "8947e533",
   "metadata": {},
   "outputs": [],
   "source": [
    "# function to draw bar plot\n",
    "def draw_bar_plot(category,length,xlabel,ylabel,title,sub):\n",
    "    plt.subplot(2,2,sub)\n",
    "    plt.bar(category, length,color = 'grbkymc')\n",
    "    plt.legend()\n",
    "    plt.xlabel(xlabel, fontsize=15)\n",
    "    plt.ylabel(ylabel, fontsize=15)\n",
    "    plt.title(title, fontsize=15)\n",
    "    #plt.show()"
   ]
  },
  {
   "cell_type": "code",
   "execution_count": 62,
   "id": "baee9923",
   "metadata": {},
   "outputs": [
    {
     "data": {
      "text/plain": [
       "20832"
      ]
     },
     "execution_count": 62,
     "metadata": {},
     "output_type": "execute_result"
    }
   ],
   "source": [
    "len(train[train.Target=='Positive'][\"length\"])"
   ]
  },
  {
   "cell_type": "code",
   "execution_count": 74,
   "id": "ee503916",
   "metadata": {},
   "outputs": [],
   "source": [
    "# function to draw histogram\n",
    "def draw_hist(xlabel, ylabel,title,target,sub,color):\n",
    "    plt.subplot(1,3,sub)\n",
    "    plt.hist(train[train.Target==target][\"length\"],color = color)\n",
    "    plt.title(title,fontsize=25)\n",
    "    plt.xlabel(xlabel,fontsize=15)\n",
    "    plt.ylabel(ylabel,fontsize=15)\n",
    "    plt.ylim(0,10000)\n",
    "    plt.grid()"
   ]
  },
  {
   "cell_type": "code",
   "execution_count": 75,
   "id": "f09194fe",
   "metadata": {},
   "outputs": [],
   "source": [
    "# function to draw graphs for stopwords and punctuations\n",
    "def draw_bar_n_plot(data,title):\n",
    "# lets visualize the top 10 stop words\n",
    "    x,y=zip(*data)\n",
    "\n",
    "    plt.figure(figsize = (25,10))\n",
    "    plt.subplot(1,4,1)\n",
    "    plt.bar(x,y,color='grbkymc')\n",
    "    plt.title(\"Top 10 \"+ title,fontsize=25)\n",
    "    plt.xlabel(title,fontsize=15)\n",
    "    plt.ylabel(\"Count\",fontsize=15)\n",
    "    plt.grid()\n",
    "\n",
    "    plt.subplot(1,2,2)\n",
    "    plt.plot(x,y,'g')\n",
    "    plt.title(\"Top 10 \"+ title,fontsize=25)\n",
    "    plt.xlabel(title,fontsize=15)\n",
    "    plt.ylabel(\"Count\",fontsize=15)\n",
    "    plt.grid()"
   ]
  },
  {
   "cell_type": "code",
   "execution_count": 76,
   "id": "bfa97b42",
   "metadata": {},
   "outputs": [
    {
     "name": "stdout",
     "output_type": "stream",
     "text": [
      "No. of Positive Tweets (Target = 'Positive''): 20832\n",
      "No. of Positive Tweets (Target = 'Negative''): 22542\n",
      "No. of Positive Tweets (Target = 'Neutral''): 18318\n",
      "No. of Positive Tweets (Target = 'Irrelevant''): 12990\n"
     ]
    }
   ],
   "source": [
    "# check class distribution\n",
    "\n",
    "print(\"No. of Positive Tweets (Target = 'Positive''):\",len(train[train[\"Target\"]=='Positive']))\n",
    "print(\"No. of Positive Tweets (Target = 'Negative''):\",len(train[train[\"Target\"]=='Negative']))\n",
    "print(\"No. of Positive Tweets (Target = 'Neutral''):\",len(train[train[\"Target\"]=='Neutral']))\n",
    "print(\"No. of Positive Tweets (Target = 'Irrelevant''):\",len(train[train[\"Target\"]=='Irrelevant']))"
   ]
  },
  {
   "cell_type": "code",
   "execution_count": 77,
   "id": "14918a54",
   "metadata": {},
   "outputs": [],
   "source": [
    "# lets visualize the class distribution\n",
    "#plt.figure(figsize = (12,8))\n",
    "#draw_bar_plot([\"Real\",\"Fake\"],[len(train[train.target==1]), len(train[train.target==0])],\"Real Vs Fake\",\"Number of Tweets\",\"Class Distribution\",1)"
   ]
  },
  {
   "cell_type": "code",
   "execution_count": 78,
   "id": "ed154e98",
   "metadata": {},
   "outputs": [],
   "source": [
    "# we will now check the length of \"real disaster\" vs lenght of \"fake disaster\" tweets\n",
    "# lets first add a new field to the dataset called \"length\"\n",
    "def length(text):    \n",
    "    return len(text)"
   ]
  },
  {
   "cell_type": "code",
   "execution_count": null,
   "id": "59b1c4f2",
   "metadata": {},
   "outputs": [],
   "source": []
  },
  {
   "cell_type": "code",
   "execution_count": 24,
   "id": "a6d18f9d",
   "metadata": {},
   "outputs": [],
   "source": [
    "train[\"length\"]= train.Text.astype(str).apply(length)"
   ]
  },
  {
   "cell_type": "code",
   "execution_count": 79,
   "id": "8c496b6b",
   "metadata": {},
   "outputs": [
    {
     "data": {
      "image/png": "[encoded data removed]",
      "text/plain": [
       "<Figure size 1800x576 with 3 Axes>"
      ]
     },
     "metadata": {
      "needs_background": "light"
     },
     "output_type": "display_data"
    }
   ],
   "source": [
    "# lets see the distribution of length of tweets real vs fake\n",
    "\n",
    "plt.figure(figsize = (25,8))\n",
    "draw_hist(\"Positive Tweets\",\"Length of Tweets\",\"Length of Positive Tweets\",'Positive', 1,\"darkgreen\")\n",
    "draw_hist(\"Fake Disaster Tweets\",\"Length of Tweets\",\"Length of Fake Disaster Tweets\",'Negative', 2,\"darkred\")\n",
    "draw_hist(\"Fake Disaster Tweets\",\"Length of Tweets\",\"Length of Fake Disaster Tweets\",'Neutral', 3,\"darkred\")"
   ]
  },
  {
   "cell_type": "code",
   "execution_count": null,
   "id": "72340c9e",
   "metadata": {},
   "outputs": [],
   "source": []
  },
  {
   "cell_type": "code",
   "execution_count": null,
   "id": "25586b01",
   "metadata": {},
   "outputs": [],
   "source": []
  }
 ],
 "metadata": {
  "kernelspec": {
   "display_name": "Python 3 (ipykernel)",
   "language": "python",
   "name": "python3"
  },
  "language_info": {
   "codemirror_mode": {
    "name": "ipython",
    "version": 3
   },
   "file_extension": ".py",
   "mimetype": "text/x-python",
   "name": "python",
   "nbconvert_exporter": "python",
   "pygments_lexer": "ipython3",
   "version": "3.9.12"
  }
 },
 "nbformat": 4,
 "nbformat_minor": 5
}
